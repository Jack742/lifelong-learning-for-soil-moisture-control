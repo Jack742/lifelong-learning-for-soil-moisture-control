{
 "cells": [
  {
   "cell_type": "code",
   "execution_count": 1,
   "source": [
    "import matplotlib.pyplot as plt\r\n",
    "\r\n",
    "plt.style.use(\"seaborn-white\")\r\n",
    "\r\n",
    "import random\r\n",
    "import torch\r\n",
    "from torch import nn\r\n",
    "from torch.nn import functional as F\r\n",
    "from torch import optim\r\n",
    "from tqdm import tqdm\r\n",
    "\r\n",
    "from data import PermutedMNIST\r\n",
    "from utils import EWC, ewc_train, normal_train, test\r\n",
    "import pickle \r\n",
    "from vae import VAE\r\n",
    "import utils_vae\r\n",
    "import numpy as np\r\n",
    "from operator import itemgetter"
   ],
   "outputs": [],
   "metadata": {}
  },
  {
   "cell_type": "code",
   "execution_count": 2,
   "source": [
    "epochs = 30\r\n",
    "lr = 1e-3\r\n",
    "batch_size = 128\r\n",
    "sample_size = 200\r\n",
    "hidden_size = 400\r\n",
    "num_task = 3\r\n",
    "\r\n",
    "device = torch.device(\"cuda:0\" if (torch.cuda.is_available()) else \"cpu\")\r\n",
    "lambda_val = 0.005\r\n",
    "vae_lr=0.000035"
   ],
   "outputs": [],
   "metadata": {}
  },
  {
   "cell_type": "code",
   "execution_count": 3,
   "source": [
    "class MLP(nn.Module):\r\n",
    "    def __init__(self, hidden_size=400):\r\n",
    "        super(MLP, self).__init__()\r\n",
    "        self.input_dropout = nn.Dropout(p=0.2)\r\n",
    "        self.dropout = nn.Dropout(p=0.5)\r\n",
    "        self.fc1 = nn.Linear(28 * 28, hidden_size, bias=False)\r\n",
    "        self.fc2 = nn.Linear(hidden_size, hidden_size, bias=False)\r\n",
    "        self.fc3 = nn.Linear(hidden_size, hidden_size, bias=False)\r\n",
    "        self.fc4 = nn.Linear(hidden_size, 10)\r\n",
    "\r\n",
    "    def forward(self, input):\r\n",
    "        x = F.relu((self.fc1(input)))\r\n",
    "        x = F.relu((self.fc2(x)))\r\n",
    "        x = F.relu((self.fc3(x)))\r\n",
    "        x = F.relu(self.fc4(x))\r\n",
    "        return x\r\n"
   ],
   "outputs": [],
   "metadata": {}
  },
  {
   "cell_type": "code",
   "execution_count": 4,
   "source": [
    "def get_permute_mnist():\r\n",
    "    train_loader = {}\r\n",
    "    test_loader = {}\r\n",
    "    idx = list(range(28 * 28))\r\n",
    "    for i in range(num_task):\r\n",
    "        train_loader[i] = torch.utils.data.DataLoader(PermutedMNIST(train=True, permute_idx=idx), batch_size=batch_size,num_workers=4)\r\n",
    "        test_loader[i] = torch.utils.data.DataLoader(PermutedMNIST(train=False, permute_idx=idx),batch_size=batch_size)\r\n",
    "        random.shuffle(idx)\r\n",
    "    return train_loader, test_loader\r\n",
    "\r\n",
    "\r\n",
    "train_loader, test_loader = get_permute_mnist()\r\n"
   ],
   "outputs": [],
   "metadata": {}
  },
  {
   "cell_type": "code",
   "execution_count": 5,
   "source": [
    "def standard_process(epochs, use_cuda=True, weight=True):\r\n",
    "    model = MLP(hidden_size)\r\n",
    "\r\n",
    "    if torch.cuda.is_available() and use_cuda:\r\n",
    "        model.cuda()\r\n",
    "    optimizer = optim.SGD(params=model.parameters(), lr=lr)\r\n",
    "\r\n",
    "    loss, acc, li_class_matrix = {}, {}, {0:[], 1:[], 2:[]}\r\n",
    "    for task in tqdm(range(num_task)):\r\n",
    "        loss[task] = []\r\n",
    "        acc[task] = []\r\n",
    "        for _ in (range(epochs)):\r\n",
    "            loss[task].append(normal_train(model, optimizer, train_loader[task]))\r\n",
    "            for sub_task in range(task + 1):\r\n",
    "                acc_, class_matrix =  test(model, test_loader[sub_task])\r\n",
    "                acc[sub_task].append(acc_)\r\n",
    "                li_class_matrix[sub_task].append(class_matrix)\r\n",
    "        if task == 0 and weight:\r\n",
    "            weight = model.state_dict()\r\n",
    "    return loss, acc, weight, li_class_matrix\r\n",
    "\r\n",
    "\r\n",
    "def ewc_process(epochs, importance, sample_size=sample_size,use_cuda=True, weight=None):\r\n",
    "    model = MLP(hidden_size)\r\n",
    "    if torch.cuda.is_available() and use_cuda:\r\n",
    "        model.cuda()\r\n",
    "    optimizer = optim.SGD(params=model.parameters(), lr=lr)\r\n",
    "\r\n",
    "    loss, acc, li_class_matrix = {}, {}, {0:[], 1:[], 2:[]}\r\n",
    "    for task in tqdm(range(num_task)):\r\n",
    "        loss[task] = []\r\n",
    "        acc[task] = []\r\n",
    "\r\n",
    "        if task == 0:\r\n",
    "            if weight:\r\n",
    "                model.load_state_dict(weight)\r\n",
    "            else:\r\n",
    "                for _ in (range(epochs)):\r\n",
    "                    loss[task].append(normal_train(model, optimizer, train_loader[task]))\r\n",
    "                    acc_, class_matrix =  test(model, test_loader[task])\r\n",
    "                    acc[task].append(acc_)\r\n",
    "                    li_class_matrix[task].append(class_matrix)\r\n",
    "        else:\r\n",
    "            old_tasks = []\r\n",
    "            for sub_task in range(task):\r\n",
    "                old_tasks = old_tasks + train_loader[sub_task].dataset.get_sample(sample_size)\r\n",
    "            old_tasks = random.sample(old_tasks, k=sample_size)\r\n",
    "            for _ in (range(epochs)):\r\n",
    "                loss[task].append(ewc_train(model, optimizer, train_loader[task], EWC(model, old_tasks), importance))\r\n",
    "                for sub_task in range(task + 1):\r\n",
    "                    acc_, class_matrix =  test(model, test_loader[sub_task])\r\n",
    "                    acc[sub_task].append(acc_)\r\n",
    "                    li_class_matrix[sub_task].append(class_matrix)\r\n",
    "    weights = model.state_dict()\r\n",
    "    return loss, acc, weights, li_class_matrix\r\n",
    "\r\n",
    "def create_vae(lambda_val=lambda_val,num_inputs=20):\r\n",
    "    return VAE(num_inputs, 18, num_task, 12, lambda_val).to(device)\r\n",
    "\r\n",
    "def vae_ewc_process(epochs,importance,lambda_val_=lambda_val,vlr=vae_lr,sample_size=sample_size,use_cuda=True,weight=None):\r\n",
    "    model = MLP(hidden_size)\r\n",
    "    if torch.cuda.is_available() and use_cuda:\r\n",
    "        model.cuda()\r\n",
    "    optimizer = optim.SGD(params=model.parameters(), lr=lr)          \r\n",
    "\r\n",
    "    loss, acc, li_class_matrix = {}, {}, {0:[], 1:[], 2:[]}\r\n",
    "    vae_loss = []\r\n",
    "    for task in tqdm(range(num_task)):\r\n",
    "        loss[task] = []\r\n",
    "        acc[task] = []\r\n",
    "\r\n",
    "        if task == 0:\r\n",
    "            if weight:\r\n",
    "                model.load_state_dict(weight)\r\n",
    "            else:\r\n",
    "                for _ in (range(epochs)):\r\n",
    "                    loss[task].append(normal_train(model, optimizer, train_loader[task]))\r\n",
    "                    acc_, class_matrix =  test(model, test_loader[task])\r\n",
    "                    acc[task].append(acc_)\r\n",
    "                    li_class_matrix[task].append(class_matrix)\r\n",
    "        else:\r\n",
    "            old_tasks = []\r\n",
    "            old_task_labels = []\r\n",
    "            for sub_task in range(task):\r\n",
    "                updated_old_tasks = train_loader[sub_task].dataset.get_sample(sample_size)\r\n",
    "                old_tasks = old_tasks + updated_old_tasks\r\n",
    "                old_task_labels.extend([task for _ in range(sample_size)])\r\n",
    "            idxs = sorted(np.random.choice(np.arange(len(old_tasks)), size=sample_size, replace=False))\r\n",
    "            old_tasks = itemgetter(*idxs)(old_tasks)\r\n",
    "            old_task_labels = itemgetter(*idxs)(old_task_labels)\r\n",
    "\r\n",
    "            vae = create_vae(lambda_val_)\r\n",
    "            vae_optim = optim.Adam(params=vae.parameters(), lr=vlr)\r\n",
    "            ewc = utils_vae.EWC(model, old_tasks, old_task_labels, vae)\r\n",
    "            vae_loss = ewc.train_vae(vae, vae_optim, input_size=20)\r\n",
    "            for _ in (range(epochs)):\r\n",
    "                loss[task].append(utils_vae.vae_ewc_train(model, optimizer, train_loader[task], utils_vae.EWC(model, old_tasks,old_task_labels, vae), importance))\r\n",
    "                for sub_task in range(task + 1):\r\n",
    "                    acc_, class_matrix =  test(model, test_loader[sub_task])\r\n",
    "                    acc[sub_task].append(acc_)\r\n",
    "                    li_class_matrix[sub_task].append(class_matrix)\r\n",
    "    retro_acc = [] \r\n",
    "    # for subtask in range(task+1):\r\n",
    "    #     retro_acc.append(test(model, test_loader[subtask]))\r\n",
    "    weights = model.state_dict()\r\n",
    "    vae_weights = vae.state_dict()\r\n",
    "    return loss, acc, retro_acc, vae_loss, weights, vae_weights, li_class_matrix"
   ],
   "outputs": [],
   "metadata": {}
  },
  {
   "cell_type": "code",
   "execution_count": 6,
   "source": [
    "def loss_plot(x):\r\n",
    "    for t, v in x.items():\r\n",
    "        plt.plot(list(range(t * epochs, (t + 1) * epochs)), v)\r\n",
    "\r\n",
    "def accuracy_plot(x):\r\n",
    "    for t, v in x.items():\r\n",
    "        plt.plot(list(range(t * epochs, num_task * epochs)), v)\r\n",
    "    plt.ylim(0, 1)"
   ],
   "outputs": [],
   "metadata": {}
  },
  {
   "cell_type": "code",
   "execution_count": 7,
   "source": [
    "loss, acc, weight, li_class_matrix = standard_process(epochs)"
   ],
   "outputs": [
    {
     "output_type": "stream",
     "name": "stderr",
     "text": [
      "  0%|          | 0/3 [00:29<?, ?it/s]\n"
     ]
    },
    {
     "output_type": "error",
     "ename": "KeyboardInterrupt",
     "evalue": "",
     "traceback": [
      "\u001b[1;31m---------------------------------------------------------------------------\u001b[0m",
      "\u001b[1;31mKeyboardInterrupt\u001b[0m                         Traceback (most recent call last)",
      "\u001b[1;32m<ipython-input-7-06dbe63d98a3>\u001b[0m in \u001b[0;36m<module>\u001b[1;34m\u001b[0m\n\u001b[1;32m----> 1\u001b[1;33m \u001b[0mloss\u001b[0m\u001b[1;33m,\u001b[0m \u001b[0macc\u001b[0m\u001b[1;33m,\u001b[0m \u001b[0mweight\u001b[0m\u001b[1;33m,\u001b[0m \u001b[0mli_class_matrix\u001b[0m \u001b[1;33m=\u001b[0m \u001b[0mstandard_process\u001b[0m\u001b[1;33m(\u001b[0m\u001b[0mepochs\u001b[0m\u001b[1;33m)\u001b[0m\u001b[1;33m\u001b[0m\u001b[1;33m\u001b[0m\u001b[0m\n\u001b[0m",
      "\u001b[1;32m<ipython-input-5-1cb4c4d53418>\u001b[0m in \u001b[0;36mstandard_process\u001b[1;34m(epochs, use_cuda, weight)\u001b[0m\n\u001b[0;32m     11\u001b[0m         \u001b[0macc\u001b[0m\u001b[1;33m[\u001b[0m\u001b[0mtask\u001b[0m\u001b[1;33m]\u001b[0m \u001b[1;33m=\u001b[0m \u001b[1;33m[\u001b[0m\u001b[1;33m]\u001b[0m\u001b[1;33m\u001b[0m\u001b[1;33m\u001b[0m\u001b[0m\n\u001b[0;32m     12\u001b[0m         \u001b[1;32mfor\u001b[0m \u001b[0m_\u001b[0m \u001b[1;32min\u001b[0m \u001b[1;33m(\u001b[0m\u001b[0mrange\u001b[0m\u001b[1;33m(\u001b[0m\u001b[0mepochs\u001b[0m\u001b[1;33m)\u001b[0m\u001b[1;33m)\u001b[0m\u001b[1;33m:\u001b[0m\u001b[1;33m\u001b[0m\u001b[1;33m\u001b[0m\u001b[0m\n\u001b[1;32m---> 13\u001b[1;33m             \u001b[0mloss\u001b[0m\u001b[1;33m[\u001b[0m\u001b[0mtask\u001b[0m\u001b[1;33m]\u001b[0m\u001b[1;33m.\u001b[0m\u001b[0mappend\u001b[0m\u001b[1;33m(\u001b[0m\u001b[0mnormal_train\u001b[0m\u001b[1;33m(\u001b[0m\u001b[0mmodel\u001b[0m\u001b[1;33m,\u001b[0m \u001b[0moptimizer\u001b[0m\u001b[1;33m,\u001b[0m \u001b[0mtrain_loader\u001b[0m\u001b[1;33m[\u001b[0m\u001b[0mtask\u001b[0m\u001b[1;33m]\u001b[0m\u001b[1;33m)\u001b[0m\u001b[1;33m)\u001b[0m\u001b[1;33m\u001b[0m\u001b[1;33m\u001b[0m\u001b[0m\n\u001b[0m\u001b[0;32m     14\u001b[0m             \u001b[1;32mfor\u001b[0m \u001b[0msub_task\u001b[0m \u001b[1;32min\u001b[0m \u001b[0mrange\u001b[0m\u001b[1;33m(\u001b[0m\u001b[0mtask\u001b[0m \u001b[1;33m+\u001b[0m \u001b[1;36m1\u001b[0m\u001b[1;33m)\u001b[0m\u001b[1;33m:\u001b[0m\u001b[1;33m\u001b[0m\u001b[1;33m\u001b[0m\u001b[0m\n\u001b[0;32m     15\u001b[0m                 \u001b[0macc_\u001b[0m\u001b[1;33m,\u001b[0m \u001b[0mclass_matrix\u001b[0m \u001b[1;33m=\u001b[0m  \u001b[0mtest\u001b[0m\u001b[1;33m(\u001b[0m\u001b[0mmodel\u001b[0m\u001b[1;33m,\u001b[0m \u001b[0mtest_loader\u001b[0m\u001b[1;33m[\u001b[0m\u001b[0msub_task\u001b[0m\u001b[1;33m]\u001b[0m\u001b[1;33m)\u001b[0m\u001b[1;33m\u001b[0m\u001b[1;33m\u001b[0m\u001b[0m\n",
      "\u001b[1;32md:\\Work\\Uni Work\\MSc Project\\ewc.pytorch\\utils.py\u001b[0m in \u001b[0;36mnormal_train\u001b[1;34m(model, optimizer, data_loader)\u001b[0m\n\u001b[0;32m     80\u001b[0m     \u001b[0mmodel\u001b[0m\u001b[1;33m.\u001b[0m\u001b[0mtrain\u001b[0m\u001b[1;33m(\u001b[0m\u001b[1;33m)\u001b[0m\u001b[1;33m\u001b[0m\u001b[1;33m\u001b[0m\u001b[0m\n\u001b[0;32m     81\u001b[0m     \u001b[0mepoch_loss\u001b[0m \u001b[1;33m=\u001b[0m \u001b[1;36m0\u001b[0m\u001b[1;33m\u001b[0m\u001b[1;33m\u001b[0m\u001b[0m\n\u001b[1;32m---> 82\u001b[1;33m     \u001b[1;32mfor\u001b[0m \u001b[0minput\u001b[0m\u001b[1;33m,\u001b[0m \u001b[0mtarget\u001b[0m \u001b[1;32min\u001b[0m \u001b[0mdata_loader\u001b[0m\u001b[1;33m:\u001b[0m\u001b[1;33m\u001b[0m\u001b[1;33m\u001b[0m\u001b[0m\n\u001b[0m\u001b[0;32m     83\u001b[0m         \u001b[0minput\u001b[0m\u001b[1;33m,\u001b[0m \u001b[0mtarget\u001b[0m \u001b[1;33m=\u001b[0m \u001b[0mvariable\u001b[0m\u001b[1;33m(\u001b[0m\u001b[0minput\u001b[0m\u001b[1;33m)\u001b[0m\u001b[1;33m,\u001b[0m \u001b[0mvariable\u001b[0m\u001b[1;33m(\u001b[0m\u001b[0mtarget\u001b[0m\u001b[1;33m)\u001b[0m\u001b[1;33m\u001b[0m\u001b[1;33m\u001b[0m\u001b[0m\n\u001b[0;32m     84\u001b[0m         \u001b[0moptimizer\u001b[0m\u001b[1;33m.\u001b[0m\u001b[0mzero_grad\u001b[0m\u001b[1;33m(\u001b[0m\u001b[1;33m)\u001b[0m\u001b[1;33m\u001b[0m\u001b[1;33m\u001b[0m\u001b[0m\n",
      "\u001b[1;32mC:\\ProgramData\\Anaconda3\\lib\\site-packages\\torch\\utils\\data\\dataloader.py\u001b[0m in \u001b[0;36m__next__\u001b[1;34m(self)\u001b[0m\n\u001b[0;32m    515\u001b[0m             \u001b[1;32mif\u001b[0m \u001b[0mself\u001b[0m\u001b[1;33m.\u001b[0m\u001b[0m_sampler_iter\u001b[0m \u001b[1;32mis\u001b[0m \u001b[1;32mNone\u001b[0m\u001b[1;33m:\u001b[0m\u001b[1;33m\u001b[0m\u001b[1;33m\u001b[0m\u001b[0m\n\u001b[0;32m    516\u001b[0m                 \u001b[0mself\u001b[0m\u001b[1;33m.\u001b[0m\u001b[0m_reset\u001b[0m\u001b[1;33m(\u001b[0m\u001b[1;33m)\u001b[0m\u001b[1;33m\u001b[0m\u001b[1;33m\u001b[0m\u001b[0m\n\u001b[1;32m--> 517\u001b[1;33m             \u001b[0mdata\u001b[0m \u001b[1;33m=\u001b[0m \u001b[0mself\u001b[0m\u001b[1;33m.\u001b[0m\u001b[0m_next_data\u001b[0m\u001b[1;33m(\u001b[0m\u001b[1;33m)\u001b[0m\u001b[1;33m\u001b[0m\u001b[1;33m\u001b[0m\u001b[0m\n\u001b[0m\u001b[0;32m    518\u001b[0m             \u001b[0mself\u001b[0m\u001b[1;33m.\u001b[0m\u001b[0m_num_yielded\u001b[0m \u001b[1;33m+=\u001b[0m \u001b[1;36m1\u001b[0m\u001b[1;33m\u001b[0m\u001b[1;33m\u001b[0m\u001b[0m\n\u001b[0;32m    519\u001b[0m             \u001b[1;32mif\u001b[0m \u001b[0mself\u001b[0m\u001b[1;33m.\u001b[0m\u001b[0m_dataset_kind\u001b[0m \u001b[1;33m==\u001b[0m \u001b[0m_DatasetKind\u001b[0m\u001b[1;33m.\u001b[0m\u001b[0mIterable\u001b[0m \u001b[1;32mand\u001b[0m\u001b[0;31m \u001b[0m\u001b[0;31m\\\u001b[0m\u001b[1;33m\u001b[0m\u001b[1;33m\u001b[0m\u001b[0m\n",
      "\u001b[1;32mC:\\ProgramData\\Anaconda3\\lib\\site-packages\\torch\\utils\\data\\dataloader.py\u001b[0m in \u001b[0;36m_next_data\u001b[1;34m(self)\u001b[0m\n\u001b[0;32m   1180\u001b[0m \u001b[1;33m\u001b[0m\u001b[0m\n\u001b[0;32m   1181\u001b[0m             \u001b[1;32massert\u001b[0m \u001b[1;32mnot\u001b[0m \u001b[0mself\u001b[0m\u001b[1;33m.\u001b[0m\u001b[0m_shutdown\u001b[0m \u001b[1;32mand\u001b[0m \u001b[0mself\u001b[0m\u001b[1;33m.\u001b[0m\u001b[0m_tasks_outstanding\u001b[0m \u001b[1;33m>\u001b[0m \u001b[1;36m0\u001b[0m\u001b[1;33m\u001b[0m\u001b[1;33m\u001b[0m\u001b[0m\n\u001b[1;32m-> 1182\u001b[1;33m             \u001b[0midx\u001b[0m\u001b[1;33m,\u001b[0m \u001b[0mdata\u001b[0m \u001b[1;33m=\u001b[0m \u001b[0mself\u001b[0m\u001b[1;33m.\u001b[0m\u001b[0m_get_data\u001b[0m\u001b[1;33m(\u001b[0m\u001b[1;33m)\u001b[0m\u001b[1;33m\u001b[0m\u001b[1;33m\u001b[0m\u001b[0m\n\u001b[0m\u001b[0;32m   1183\u001b[0m             \u001b[0mself\u001b[0m\u001b[1;33m.\u001b[0m\u001b[0m_tasks_outstanding\u001b[0m \u001b[1;33m-=\u001b[0m \u001b[1;36m1\u001b[0m\u001b[1;33m\u001b[0m\u001b[1;33m\u001b[0m\u001b[0m\n\u001b[0;32m   1184\u001b[0m             \u001b[1;32mif\u001b[0m \u001b[0mself\u001b[0m\u001b[1;33m.\u001b[0m\u001b[0m_dataset_kind\u001b[0m \u001b[1;33m==\u001b[0m \u001b[0m_DatasetKind\u001b[0m\u001b[1;33m.\u001b[0m\u001b[0mIterable\u001b[0m\u001b[1;33m:\u001b[0m\u001b[1;33m\u001b[0m\u001b[1;33m\u001b[0m\u001b[0m\n",
      "\u001b[1;32mC:\\ProgramData\\Anaconda3\\lib\\site-packages\\torch\\utils\\data\\dataloader.py\u001b[0m in \u001b[0;36m_get_data\u001b[1;34m(self)\u001b[0m\n\u001b[0;32m   1146\u001b[0m         \u001b[1;32melse\u001b[0m\u001b[1;33m:\u001b[0m\u001b[1;33m\u001b[0m\u001b[1;33m\u001b[0m\u001b[0m\n\u001b[0;32m   1147\u001b[0m             \u001b[1;32mwhile\u001b[0m \u001b[1;32mTrue\u001b[0m\u001b[1;33m:\u001b[0m\u001b[1;33m\u001b[0m\u001b[1;33m\u001b[0m\u001b[0m\n\u001b[1;32m-> 1148\u001b[1;33m                 \u001b[0msuccess\u001b[0m\u001b[1;33m,\u001b[0m \u001b[0mdata\u001b[0m \u001b[1;33m=\u001b[0m \u001b[0mself\u001b[0m\u001b[1;33m.\u001b[0m\u001b[0m_try_get_data\u001b[0m\u001b[1;33m(\u001b[0m\u001b[1;33m)\u001b[0m\u001b[1;33m\u001b[0m\u001b[1;33m\u001b[0m\u001b[0m\n\u001b[0m\u001b[0;32m   1149\u001b[0m                 \u001b[1;32mif\u001b[0m \u001b[0msuccess\u001b[0m\u001b[1;33m:\u001b[0m\u001b[1;33m\u001b[0m\u001b[1;33m\u001b[0m\u001b[0m\n\u001b[0;32m   1150\u001b[0m                     \u001b[1;32mreturn\u001b[0m \u001b[0mdata\u001b[0m\u001b[1;33m\u001b[0m\u001b[1;33m\u001b[0m\u001b[0m\n",
      "\u001b[1;32mC:\\ProgramData\\Anaconda3\\lib\\site-packages\\torch\\utils\\data\\dataloader.py\u001b[0m in \u001b[0;36m_try_get_data\u001b[1;34m(self, timeout)\u001b[0m\n\u001b[0;32m    984\u001b[0m         \u001b[1;31m#   (bool: whether successfully get data, any: data if successful else None)\u001b[0m\u001b[1;33m\u001b[0m\u001b[1;33m\u001b[0m\u001b[1;33m\u001b[0m\u001b[0m\n\u001b[0;32m    985\u001b[0m         \u001b[1;32mtry\u001b[0m\u001b[1;33m:\u001b[0m\u001b[1;33m\u001b[0m\u001b[1;33m\u001b[0m\u001b[0m\n\u001b[1;32m--> 986\u001b[1;33m             \u001b[0mdata\u001b[0m \u001b[1;33m=\u001b[0m \u001b[0mself\u001b[0m\u001b[1;33m.\u001b[0m\u001b[0m_data_queue\u001b[0m\u001b[1;33m.\u001b[0m\u001b[0mget\u001b[0m\u001b[1;33m(\u001b[0m\u001b[0mtimeout\u001b[0m\u001b[1;33m=\u001b[0m\u001b[0mtimeout\u001b[0m\u001b[1;33m)\u001b[0m\u001b[1;33m\u001b[0m\u001b[1;33m\u001b[0m\u001b[0m\n\u001b[0m\u001b[0;32m    987\u001b[0m             \u001b[1;32mreturn\u001b[0m \u001b[1;33m(\u001b[0m\u001b[1;32mTrue\u001b[0m\u001b[1;33m,\u001b[0m \u001b[0mdata\u001b[0m\u001b[1;33m)\u001b[0m\u001b[1;33m\u001b[0m\u001b[1;33m\u001b[0m\u001b[0m\n\u001b[0;32m    988\u001b[0m         \u001b[1;32mexcept\u001b[0m \u001b[0mException\u001b[0m \u001b[1;32mas\u001b[0m \u001b[0me\u001b[0m\u001b[1;33m:\u001b[0m\u001b[1;33m\u001b[0m\u001b[1;33m\u001b[0m\u001b[0m\n",
      "\u001b[1;32mC:\\ProgramData\\Anaconda3\\lib\\multiprocessing\\queues.py\u001b[0m in \u001b[0;36mget\u001b[1;34m(self, block, timeout)\u001b[0m\n\u001b[0;32m    105\u001b[0m                 \u001b[1;32mif\u001b[0m \u001b[0mblock\u001b[0m\u001b[1;33m:\u001b[0m\u001b[1;33m\u001b[0m\u001b[1;33m\u001b[0m\u001b[0m\n\u001b[0;32m    106\u001b[0m                     \u001b[0mtimeout\u001b[0m \u001b[1;33m=\u001b[0m \u001b[0mdeadline\u001b[0m \u001b[1;33m-\u001b[0m \u001b[0mtime\u001b[0m\u001b[1;33m.\u001b[0m\u001b[0mmonotonic\u001b[0m\u001b[1;33m(\u001b[0m\u001b[1;33m)\u001b[0m\u001b[1;33m\u001b[0m\u001b[1;33m\u001b[0m\u001b[0m\n\u001b[1;32m--> 107\u001b[1;33m                     \u001b[1;32mif\u001b[0m \u001b[1;32mnot\u001b[0m \u001b[0mself\u001b[0m\u001b[1;33m.\u001b[0m\u001b[0m_poll\u001b[0m\u001b[1;33m(\u001b[0m\u001b[0mtimeout\u001b[0m\u001b[1;33m)\u001b[0m\u001b[1;33m:\u001b[0m\u001b[1;33m\u001b[0m\u001b[1;33m\u001b[0m\u001b[0m\n\u001b[0m\u001b[0;32m    108\u001b[0m                         \u001b[1;32mraise\u001b[0m \u001b[0mEmpty\u001b[0m\u001b[1;33m\u001b[0m\u001b[1;33m\u001b[0m\u001b[0m\n\u001b[0;32m    109\u001b[0m                 \u001b[1;32melif\u001b[0m \u001b[1;32mnot\u001b[0m \u001b[0mself\u001b[0m\u001b[1;33m.\u001b[0m\u001b[0m_poll\u001b[0m\u001b[1;33m(\u001b[0m\u001b[1;33m)\u001b[0m\u001b[1;33m:\u001b[0m\u001b[1;33m\u001b[0m\u001b[1;33m\u001b[0m\u001b[0m\n",
      "\u001b[1;32mC:\\ProgramData\\Anaconda3\\lib\\multiprocessing\\connection.py\u001b[0m in \u001b[0;36mpoll\u001b[1;34m(self, timeout)\u001b[0m\n\u001b[0;32m    255\u001b[0m         \u001b[0mself\u001b[0m\u001b[1;33m.\u001b[0m\u001b[0m_check_closed\u001b[0m\u001b[1;33m(\u001b[0m\u001b[1;33m)\u001b[0m\u001b[1;33m\u001b[0m\u001b[1;33m\u001b[0m\u001b[0m\n\u001b[0;32m    256\u001b[0m         \u001b[0mself\u001b[0m\u001b[1;33m.\u001b[0m\u001b[0m_check_readable\u001b[0m\u001b[1;33m(\u001b[0m\u001b[1;33m)\u001b[0m\u001b[1;33m\u001b[0m\u001b[1;33m\u001b[0m\u001b[0m\n\u001b[1;32m--> 257\u001b[1;33m         \u001b[1;32mreturn\u001b[0m \u001b[0mself\u001b[0m\u001b[1;33m.\u001b[0m\u001b[0m_poll\u001b[0m\u001b[1;33m(\u001b[0m\u001b[0mtimeout\u001b[0m\u001b[1;33m)\u001b[0m\u001b[1;33m\u001b[0m\u001b[1;33m\u001b[0m\u001b[0m\n\u001b[0m\u001b[0;32m    258\u001b[0m \u001b[1;33m\u001b[0m\u001b[0m\n\u001b[0;32m    259\u001b[0m     \u001b[1;32mdef\u001b[0m \u001b[0m__enter__\u001b[0m\u001b[1;33m(\u001b[0m\u001b[0mself\u001b[0m\u001b[1;33m)\u001b[0m\u001b[1;33m:\u001b[0m\u001b[1;33m\u001b[0m\u001b[1;33m\u001b[0m\u001b[0m\n",
      "\u001b[1;32mC:\\ProgramData\\Anaconda3\\lib\\multiprocessing\\connection.py\u001b[0m in \u001b[0;36m_poll\u001b[1;34m(self, timeout)\u001b[0m\n\u001b[0;32m    328\u001b[0m                         _winapi.PeekNamedPipe(self._handle)[0] != 0):\n\u001b[0;32m    329\u001b[0m                 \u001b[1;32mreturn\u001b[0m \u001b[1;32mTrue\u001b[0m\u001b[1;33m\u001b[0m\u001b[1;33m\u001b[0m\u001b[0m\n\u001b[1;32m--> 330\u001b[1;33m             \u001b[1;32mreturn\u001b[0m \u001b[0mbool\u001b[0m\u001b[1;33m(\u001b[0m\u001b[0mwait\u001b[0m\u001b[1;33m(\u001b[0m\u001b[1;33m[\u001b[0m\u001b[0mself\u001b[0m\u001b[1;33m]\u001b[0m\u001b[1;33m,\u001b[0m \u001b[0mtimeout\u001b[0m\u001b[1;33m)\u001b[0m\u001b[1;33m)\u001b[0m\u001b[1;33m\u001b[0m\u001b[1;33m\u001b[0m\u001b[0m\n\u001b[0m\u001b[0;32m    331\u001b[0m \u001b[1;33m\u001b[0m\u001b[0m\n\u001b[0;32m    332\u001b[0m         \u001b[1;32mdef\u001b[0m \u001b[0m_get_more_data\u001b[0m\u001b[1;33m(\u001b[0m\u001b[0mself\u001b[0m\u001b[1;33m,\u001b[0m \u001b[0mov\u001b[0m\u001b[1;33m,\u001b[0m \u001b[0mmaxsize\u001b[0m\u001b[1;33m)\u001b[0m\u001b[1;33m:\u001b[0m\u001b[1;33m\u001b[0m\u001b[1;33m\u001b[0m\u001b[0m\n",
      "\u001b[1;32mC:\\ProgramData\\Anaconda3\\lib\\multiprocessing\\connection.py\u001b[0m in \u001b[0;36mwait\u001b[1;34m(object_list, timeout)\u001b[0m\n\u001b[0;32m    877\u001b[0m                         \u001b[0mtimeout\u001b[0m \u001b[1;33m=\u001b[0m \u001b[1;36m0\u001b[0m\u001b[1;33m\u001b[0m\u001b[1;33m\u001b[0m\u001b[0m\n\u001b[0;32m    878\u001b[0m \u001b[1;33m\u001b[0m\u001b[0m\n\u001b[1;32m--> 879\u001b[1;33m             \u001b[0mready_handles\u001b[0m \u001b[1;33m=\u001b[0m \u001b[0m_exhaustive_wait\u001b[0m\u001b[1;33m(\u001b[0m\u001b[0mwaithandle_to_obj\u001b[0m\u001b[1;33m.\u001b[0m\u001b[0mkeys\u001b[0m\u001b[1;33m(\u001b[0m\u001b[1;33m)\u001b[0m\u001b[1;33m,\u001b[0m \u001b[0mtimeout\u001b[0m\u001b[1;33m)\u001b[0m\u001b[1;33m\u001b[0m\u001b[1;33m\u001b[0m\u001b[0m\n\u001b[0m\u001b[0;32m    880\u001b[0m         \u001b[1;32mfinally\u001b[0m\u001b[1;33m:\u001b[0m\u001b[1;33m\u001b[0m\u001b[1;33m\u001b[0m\u001b[0m\n\u001b[0;32m    881\u001b[0m             \u001b[1;31m# request that overlapped reads stop\u001b[0m\u001b[1;33m\u001b[0m\u001b[1;33m\u001b[0m\u001b[1;33m\u001b[0m\u001b[0m\n",
      "\u001b[1;32mC:\\ProgramData\\Anaconda3\\lib\\multiprocessing\\connection.py\u001b[0m in \u001b[0;36m_exhaustive_wait\u001b[1;34m(handles, timeout)\u001b[0m\n\u001b[0;32m    809\u001b[0m         \u001b[0mready\u001b[0m \u001b[1;33m=\u001b[0m \u001b[1;33m[\u001b[0m\u001b[1;33m]\u001b[0m\u001b[1;33m\u001b[0m\u001b[1;33m\u001b[0m\u001b[0m\n\u001b[0;32m    810\u001b[0m         \u001b[1;32mwhile\u001b[0m \u001b[0mL\u001b[0m\u001b[1;33m:\u001b[0m\u001b[1;33m\u001b[0m\u001b[1;33m\u001b[0m\u001b[0m\n\u001b[1;32m--> 811\u001b[1;33m             \u001b[0mres\u001b[0m \u001b[1;33m=\u001b[0m \u001b[0m_winapi\u001b[0m\u001b[1;33m.\u001b[0m\u001b[0mWaitForMultipleObjects\u001b[0m\u001b[1;33m(\u001b[0m\u001b[0mL\u001b[0m\u001b[1;33m,\u001b[0m \u001b[1;32mFalse\u001b[0m\u001b[1;33m,\u001b[0m \u001b[0mtimeout\u001b[0m\u001b[1;33m)\u001b[0m\u001b[1;33m\u001b[0m\u001b[1;33m\u001b[0m\u001b[0m\n\u001b[0m\u001b[0;32m    812\u001b[0m             \u001b[1;32mif\u001b[0m \u001b[0mres\u001b[0m \u001b[1;33m==\u001b[0m \u001b[0mWAIT_TIMEOUT\u001b[0m\u001b[1;33m:\u001b[0m\u001b[1;33m\u001b[0m\u001b[1;33m\u001b[0m\u001b[0m\n\u001b[0;32m    813\u001b[0m                 \u001b[1;32mbreak\u001b[0m\u001b[1;33m\u001b[0m\u001b[1;33m\u001b[0m\u001b[0m\n",
      "\u001b[1;31mKeyboardInterrupt\u001b[0m: "
     ]
    }
   ],
   "metadata": {}
  },
  {
   "cell_type": "code",
   "execution_count": 26,
   "source": [
    "loss_plot(loss)"
   ],
   "outputs": [
    {
     "output_type": "display_data",
     "data": {
      "image/png": "[encoded data removed]",
      "text/plain": [
       "<Figure size 432x288 with 1 Axes>"
      ]
     },
     "metadata": {}
    }
   ],
   "metadata": {}
  },
  {
   "cell_type": "code",
   "execution_count": 27,
   "source": [
    "accuracy_plot(acc)"
   ],
   "outputs": [
    {
     "output_type": "display_data",
     "data": {
      "image/png": "[encoded data removed]",
      "text/plain": [
       "<Figure size 432x288 with 1 Axes>"
      ]
     },
     "metadata": {}
    }
   ],
   "metadata": {}
  },
  {
   "cell_type": "code",
   "execution_count": 15,
   "source": [
    "samples_ = 100\r\n",
    "\r\n",
    "samples_li = [200,200,200,200,200,200,200]\r\n",
    "vae_lr = [0.0000035,0.0000035,0.0000035,0.0000035,0.0000035,0.000035,0.00035]\r\n",
    "lambdas = [0.05, 0.0005,0.005,0.0005,0.005,0.005,0.005]\r\n",
    "importance_ = [1000,50,100,10000,10000,10000,10000]\r\n",
    "\r\n",
    "for i in range(0, 2, 1):\r\n",
    "    \r\n",
    "   for idx in range(len(importance_)):\r\n",
    "      vae_loss_fixed, vae_acc_fixed, _, vae_net_loss_fixed, weights, vae_weights,li_class_matrix = vae_ewc_process(epochs, importance=importance_[idx], lambda_val_ = lambdas[idx], vlr=vae_lr[idx],sample_size=samples_li[idx])\r\n",
    "      with open(\"final_runs/final_grid_search/30_EPOCH_VAE_FIXED_SAMPLE_%d_VAE_LR_%.8f_LAMBDA_%.5f_IMPORTANCE_%d_RUN_%d\" % (samples_li[idx], vae_lr[idx], lambdas[idx], importance_[idx], i), 'wb') as f:\r\n",
    "         data = {'loss':vae_loss_fixed,'acc':vae_acc_fixed, 'weights':weights, 'vae_weights':vae_weights, 'vae_net_loss':vae_net_loss_fixed, 'class_matrix':li_class_matrix}\r\n",
    "         pickle.dump(data, f)\r\n",
    "      torch.save(weights, 'final_runs/final_grid_search/30_EPOCH_VAE_FIXED_SAMPLE_%d_VAE_LR_%.8f_LAMBDA_%.5f_IMPORTANCE_%d_RUN_%d_MLP_WEIGHTS'% (samples_li[idx], vae_lr[idx], lambdas[idx], importance_[idx], i))\r\n",
    "      torch.save(vae_weights, 'final_runs/final_grid_search/30_EPOCH_VAE_FIXED_SAMPLE_%d_VAE_LR_%.8f_LAMBDA_%.5f_IMPORTANCE_%d_RUN_%d_VAE_WEIGHTS'% (samples_li[idx], vae_lr[idx], lambdas[idx], importance_[idx], i))\r\n",
    "\r\n"
   ],
   "outputs": [
    {
     "output_type": "stream",
     "name": "stderr",
     "text": [
      "100%|██████████| 3/3 [11:38<00:00, 232.86s/it]\n",
      "100%|██████████| 3/3 [11:13<00:00, 224.67s/it]\n",
      "100%|██████████| 3/3 [10:15<00:00, 205.23s/it]\n",
      "100%|██████████| 3/3 [11:33<00:00, 231.24s/it]\n",
      "100%|██████████| 3/3 [13:08<00:00, 263.00s/it]\n",
      "100%|██████████| 3/3 [12:57<00:00, 259.24s/it]\n",
      "100%|██████████| 3/3 [13:37<00:00, 272.51s/it]\n",
      "100%|██████████| 3/3 [25:09<00:00, 503.23s/it]\n",
      "100%|██████████| 3/3 [11:44<00:00, 234.76s/it]\n",
      "100%|██████████| 3/3 [11:13<00:00, 224.34s/it]\n",
      "100%|██████████| 3/3 [12:14<00:00, 244.80s/it]\n",
      "100%|██████████| 3/3 [12:48<00:00, 256.19s/it]\n",
      "100%|██████████| 3/3 [11:56<00:00, 238.98s/it]\n",
      "100%|██████████| 3/3 [11:27<00:00, 229.01s/it]\n"
     ]
    }
   ],
   "metadata": {}
  },
  {
   "cell_type": "code",
   "execution_count": 9,
   "source": [
    "samples_ = 200\r\n",
    "imp0 = 100\r\n",
    "imp1 = 1000\r\n",
    "lambda0 = 0.05\r\n",
    "lambda1 = 0.05\r\n",
    "vlr0 = 0.00035\r\n",
    "vlr1 = 0.000035\r\n",
    "\r\n",
    "vlr_FIXED = 0.0000035\r\n",
    "imp_FIXED = 1000\r\n",
    "lambda_FIXED = 0.05\r\n",
    "samples_FIXED = 200\r\n",
    "\r\n",
    "vlr_FIXED2 = 0.0000035\r\n",
    "imp_FIXED2 = 10000\r\n",
    "lambda_FIXED2 = 0.0005\r\n",
    "samples_FIXED2 = 200\r\n",
    "for i in range(7, 9, 1):\r\n",
    "\r\n",
    "   vae_loss_fixed2, vae_acc_fixed2, _, vae_net_loss_fixed2, weights, vae_weights,li_class_matrix = vae_ewc_process(epochs, importance=imp_FIXED2, lambda_val_ = lambda_FIXED2, vlr=vlr_FIXED2,sample_size=samples_FIXED2)\r\n",
    "   with open(\"Evaluation Data/results2/30_EPOCH_VAE2_FIXED\"+str(i), 'wb') as f:\r\n",
    "      data = {'loss':vae_loss_fixed2,'acc':vae_acc_fixed2, 'weights':weights, 'vae_weights':vae_weights, 'vae_net_loss':vae_net_loss_fixed2, 'class_matrix':li_class_matrix}\r\n",
    "      pickle.dump(data, f)\r\n",
    "   torch.save(weights, 'Evaluation Data/30_EPOCH_VAE2_FIXED'+str(i)+\"MLP_WEIGHTS\")\r\n",
    "   torch.save(vae_weights, 'Evaluation Data/30_EPOCH_VAE2_FIXED'+str(i)+\"VAE_WEIGHTS\")   \r\n",
    "\r\n",
    "\r\n",
    "   loss, acc, weight, li_class_matrix = standard_process(epochs)\r\n",
    "   with open(\"Evaluation Data/results/30_EPOCH_STANDARD\"+str(i), 'wb') as f:\r\n",
    "      data = {'loss':loss, 'acc':acc, 'weight':weight, 'class_matrix':li_class_matrix}\r\n",
    "      pickle.dump(data, f)\r\n",
    "   torch.save(weight, 'Evaluation Data/30_EPOCH_VAE_FIXED_StandardProcess_'+str(i)+\"MLP_WEIGHTS\")\r\n",
    "\r\n",
    "\r\n",
    "   \r\n",
    "   loss_ewc, acc_ewc, weights,li_class_matrix = ewc_process(epochs, importance=1000, sample_size=200,                                            \r\n",
    "                                          )\r\n",
    "   with open(\"Evaluation Data/results/30_EPOCH_EWC\"+str(i), 'wb') as f:\r\n",
    "      data = {'loss_ewc':loss_ewc,'acc_ewc':acc_ewc,'class_matrix':li_class_matrix}\r\n",
    "      pickle.dump(data, f)\r\n",
    "   torch.save(weights, 'Evaluation Data/30_EPOCH_VAE_FIXED_EWC_'+str(i)+\"MLP_WEIGHTS\")\r\n",
    "   \r\n",
    "   # vae_loss_fixed, vae_acc_fixed, _, vae_net_loss_fixed, weights, vae_weights,li_class_matrix = vae_ewc_process(epochs, importance=imp_FIXED, lambda_val_ = lambda_FIXED, vlr=vlr_FIXED,sample_size=samples_FIXED)\r\n",
    "   # with open(\"Evaluation Data/results2/30_EPOCH_VAE_FIXED\"+str(i), 'wb') as f:\r\n",
    "   #    data = {'loss':vae_loss_fixed,'acc':vae_acc_fixed, 'weights':weights, 'vae_weights':vae_weights, 'vae_net_loss':vae_net_loss_fixed, 'class_matrix':li_class_matrix}\r\n",
    "   #    pickle.dump(data, f)\r\n",
    "   # torch.save(weights, 'Evaluation Data/30_EPOCH_VAE_FIXED'+str(i)+\"MLP_WEIGHTS\")\r\n",
    "   # torch.save(vae_weights, 'Evaluation Data/30_EPOCH_VAE_FIXED'+str(i)+\"VAE_WEIGHTS\")   \r\n",
    "\r\n"
   ],
   "outputs": [
    {
     "output_type": "stream",
     "name": "stderr",
     "text": [
      "100%|██████████| 3/3 [09:17<00:00, 185.88s/it]\n",
      "100%|██████████| 3/3 [07:28<00:00, 149.44s/it]\n",
      "100%|██████████| 3/3 [09:45<00:00, 195.28s/it]\n",
      "100%|██████████| 3/3 [09:05<00:00, 181.84s/it]\n",
      "100%|██████████| 3/3 [07:26<00:00, 148.98s/it]\n",
      "100%|██████████| 3/3 [09:44<00:00, 194.94s/it]\n"
     ]
    }
   ],
   "metadata": {
    "scrolled": true
   }
  },
  {
   "cell_type": "code",
   "execution_count": 7,
   "source": [
    "samples = [200]\r\n",
    "vae_lr = [0.0000035,0.000035,0.00035]\r\n",
    "lambda_vals = [0.0005, 0.005, 0.05]\r\n",
    "importances = [50,100,1000,10000]\r\n",
    "for run in range(0,3,1):\r\n",
    "    for ss in samples:\r\n",
    "        for imp in importances:\r\n",
    "            for vlr in vae_lr:\r\n",
    "                for lmr in lambda_vals:   \r\n",
    "                    vae_loss, vae_acc, _, vae_net_loss,_,_,_ = vae_ewc_process(epochs, importance=imp, lambda_val_ = lmr, vlr=vlr,sample_size=ss)\r\n",
    "                    name = \"final_runs/last_data/Runlog_loss_no_bias_GRIDSEARCH_SAMPLES_%d_vae_lr_%.10f_lambda_%.5f_Importance_%d_run_%d\" % (ss, vlr,lmr, imp, run)\r\n",
    "                    with open(name, \"wb\") as f:\r\n",
    "                        data = {\"vae_loss\":vae_loss, \"vae_acc\":vae_acc, \"vae_network_loss\":vae_net_loss}\r\n",
    "                        pickle.dump(data,f)\r\n"
   ],
   "outputs": [
    {
     "output_type": "stream",
     "name": "stderr",
     "text": [
      "100%|██████████| 3/3 [12:49<00:00, 256.48s/it]\n",
      "100%|██████████| 3/3 [11:45<00:00, 235.12s/it]\n",
      "100%|██████████| 3/3 [10:02<00:00, 200.98s/it]\n",
      "100%|██████████| 3/3 [10:04<00:00, 201.50s/it]\n",
      "100%|██████████| 3/3 [10:04<00:00, 201.40s/it]\n",
      "100%|██████████| 3/3 [10:04<00:00, 201.55s/it]\n",
      "100%|██████████| 3/3 [10:08<00:00, 202.77s/it]\n",
      "100%|██████████| 3/3 [10:09<00:00, 203.05s/it]\n",
      "100%|██████████| 3/3 [10:08<00:00, 202.88s/it]\n",
      "100%|██████████| 3/3 [10:10<00:00, 203.33s/it]\n",
      "100%|██████████| 3/3 [10:09<00:00, 203.04s/it]\n",
      "100%|██████████| 3/3 [10:07<00:00, 202.35s/it]\n",
      "100%|██████████| 3/3 [10:36<00:00, 212.30s/it]\n",
      "100%|██████████| 3/3 [10:28<00:00, 209.50s/it]\n",
      "100%|██████████| 3/3 [10:11<00:00, 203.72s/it]\n",
      "100%|██████████| 3/3 [10:12<00:00, 204.21s/it]\n",
      "100%|██████████| 3/3 [10:08<00:00, 202.72s/it]\n",
      "100%|██████████| 3/3 [10:08<00:00, 202.81s/it]\n",
      "100%|██████████| 3/3 [10:08<00:00, 202.67s/it]\n",
      "100%|██████████| 3/3 [10:08<00:00, 202.76s/it]\n",
      "100%|██████████| 3/3 [10:08<00:00, 202.70s/it]\n",
      "100%|██████████| 3/3 [10:08<00:00, 202.84s/it]\n",
      "100%|██████████| 3/3 [10:13<00:00, 204.34s/it]\n",
      "100%|██████████| 3/3 [10:08<00:00, 202.76s/it]\n",
      "100%|██████████| 3/3 [10:08<00:00, 202.68s/it]\n",
      "100%|██████████| 3/3 [10:13<00:00, 204.65s/it]\n",
      "100%|██████████| 3/3 [10:13<00:00, 204.40s/it]\n",
      "100%|██████████| 3/3 [10:12<00:00, 204.15s/it]\n",
      "100%|██████████| 3/3 [10:12<00:00, 204.28s/it]\n",
      "100%|██████████| 3/3 [10:13<00:00, 204.60s/it]\n",
      "100%|██████████| 3/3 [10:13<00:00, 204.46s/it]\n",
      "100%|██████████| 3/3 [10:13<00:00, 204.40s/it]\n",
      "100%|██████████| 3/3 [10:12<00:00, 204.25s/it]\n",
      "100%|██████████| 3/3 [10:13<00:00, 204.44s/it]\n",
      "100%|██████████| 3/3 [10:13<00:00, 204.52s/it]\n",
      "100%|██████████| 3/3 [10:12<00:00, 204.05s/it]\n",
      "100%|██████████| 3/3 [10:12<00:00, 204.12s/it]\n",
      "100%|██████████| 3/3 [10:13<00:00, 204.36s/it]\n",
      "100%|██████████| 3/3 [10:13<00:00, 204.36s/it]\n",
      "100%|██████████| 3/3 [10:12<00:00, 204.29s/it]\n",
      "100%|██████████| 3/3 [10:12<00:00, 204.09s/it]\n",
      "100%|██████████| 3/3 [10:13<00:00, 204.53s/it]\n",
      "100%|██████████| 3/3 [10:11<00:00, 203.94s/it]\n",
      "100%|██████████| 3/3 [10:13<00:00, 204.60s/it]\n",
      "100%|██████████| 3/3 [10:12<00:00, 204.31s/it]\n",
      "100%|██████████| 3/3 [10:12<00:00, 204.25s/it]\n",
      "100%|██████████| 3/3 [11:05<00:00, 221.68s/it]\n",
      "100%|██████████| 3/3 [11:21<00:00, 227.07s/it]\n",
      " 67%|██████▋   | 2/3 [10:41<05:20, 320.54s/it]\n"
     ]
    },
    {
     "output_type": "error",
     "ename": "KeyboardInterrupt",
     "evalue": "",
     "traceback": [
      "\u001b[1;31m---------------------------------------------------------------------------\u001b[0m",
      "\u001b[1;31mKeyboardInterrupt\u001b[0m                         Traceback (most recent call last)",
      "\u001b[1;32m<ipython-input-7-0612e63922f5>\u001b[0m in \u001b[0;36m<module>\u001b[1;34m\u001b[0m\n\u001b[0;32m      8\u001b[0m             \u001b[1;32mfor\u001b[0m \u001b[0mvlr\u001b[0m \u001b[1;32min\u001b[0m \u001b[0mvae_lr\u001b[0m\u001b[1;33m:\u001b[0m\u001b[1;33m\u001b[0m\u001b[1;33m\u001b[0m\u001b[0m\n\u001b[0;32m      9\u001b[0m                 \u001b[1;32mfor\u001b[0m \u001b[0mlmr\u001b[0m \u001b[1;32min\u001b[0m \u001b[0mlambda_vals\u001b[0m\u001b[1;33m:\u001b[0m\u001b[1;33m\u001b[0m\u001b[1;33m\u001b[0m\u001b[0m\n\u001b[1;32m---> 10\u001b[1;33m                     \u001b[0mvae_loss\u001b[0m\u001b[1;33m,\u001b[0m \u001b[0mvae_acc\u001b[0m\u001b[1;33m,\u001b[0m \u001b[0m_\u001b[0m\u001b[1;33m,\u001b[0m \u001b[0mvae_net_loss\u001b[0m\u001b[1;33m,\u001b[0m\u001b[0m_\u001b[0m\u001b[1;33m,\u001b[0m\u001b[0m_\u001b[0m\u001b[1;33m,\u001b[0m\u001b[0m_\u001b[0m \u001b[1;33m=\u001b[0m \u001b[0mvae_ewc_process\u001b[0m\u001b[1;33m(\u001b[0m\u001b[0mepochs\u001b[0m\u001b[1;33m,\u001b[0m \u001b[0mimportance\u001b[0m\u001b[1;33m=\u001b[0m\u001b[0mimp\u001b[0m\u001b[1;33m,\u001b[0m \u001b[0mlambda_val_\u001b[0m \u001b[1;33m=\u001b[0m \u001b[0mlmr\u001b[0m\u001b[1;33m,\u001b[0m \u001b[0mvlr\u001b[0m\u001b[1;33m=\u001b[0m\u001b[0mvlr\u001b[0m\u001b[1;33m,\u001b[0m\u001b[0msample_size\u001b[0m\u001b[1;33m=\u001b[0m\u001b[0mss\u001b[0m\u001b[1;33m)\u001b[0m\u001b[1;33m\u001b[0m\u001b[1;33m\u001b[0m\u001b[0m\n\u001b[0m\u001b[0;32m     11\u001b[0m                     \u001b[0mname\u001b[0m \u001b[1;33m=\u001b[0m \u001b[1;34m\"final_runs/last_data/Runlog_loss_no_bias_GRIDSEARCH_SAMPLES_%d_vae_lr_%.10f_lambda_%.5f_Importance_%d_run_%d\"\u001b[0m \u001b[1;33m%\u001b[0m \u001b[1;33m(\u001b[0m\u001b[0mss\u001b[0m\u001b[1;33m,\u001b[0m \u001b[0mvlr\u001b[0m\u001b[1;33m,\u001b[0m\u001b[0mlmr\u001b[0m\u001b[1;33m,\u001b[0m \u001b[0mimp\u001b[0m\u001b[1;33m,\u001b[0m \u001b[0mrun\u001b[0m\u001b[1;33m)\u001b[0m\u001b[1;33m\u001b[0m\u001b[1;33m\u001b[0m\u001b[0m\n\u001b[0;32m     12\u001b[0m                     \u001b[1;32mwith\u001b[0m \u001b[0mopen\u001b[0m\u001b[1;33m(\u001b[0m\u001b[0mname\u001b[0m\u001b[1;33m,\u001b[0m \u001b[1;34m\"wb\"\u001b[0m\u001b[1;33m)\u001b[0m \u001b[1;32mas\u001b[0m \u001b[0mf\u001b[0m\u001b[1;33m:\u001b[0m\u001b[1;33m\u001b[0m\u001b[1;33m\u001b[0m\u001b[0m\n",
      "\u001b[1;32m<ipython-input-5-ac8fce35bd30>\u001b[0m in \u001b[0;36mvae_ewc_process\u001b[1;34m(epochs, importance, lambda_val_, vlr, sample_size, use_cuda, weight)\u001b[0m\n\u001b[0;32m     97\u001b[0m                 \u001b[0mloss\u001b[0m\u001b[1;33m[\u001b[0m\u001b[0mtask\u001b[0m\u001b[1;33m]\u001b[0m\u001b[1;33m.\u001b[0m\u001b[0mappend\u001b[0m\u001b[1;33m(\u001b[0m\u001b[0mutils_vae\u001b[0m\u001b[1;33m.\u001b[0m\u001b[0mvae_ewc_train\u001b[0m\u001b[1;33m(\u001b[0m\u001b[0mmodel\u001b[0m\u001b[1;33m,\u001b[0m \u001b[0moptimizer\u001b[0m\u001b[1;33m,\u001b[0m \u001b[0mtrain_loader\u001b[0m\u001b[1;33m[\u001b[0m\u001b[0mtask\u001b[0m\u001b[1;33m]\u001b[0m\u001b[1;33m,\u001b[0m \u001b[0mutils_vae\u001b[0m\u001b[1;33m.\u001b[0m\u001b[0mEWC\u001b[0m\u001b[1;33m(\u001b[0m\u001b[0mmodel\u001b[0m\u001b[1;33m,\u001b[0m \u001b[0mold_tasks\u001b[0m\u001b[1;33m,\u001b[0m\u001b[0mold_task_labels\u001b[0m\u001b[1;33m,\u001b[0m \u001b[0mvae\u001b[0m\u001b[1;33m)\u001b[0m\u001b[1;33m,\u001b[0m \u001b[0mimportance\u001b[0m\u001b[1;33m)\u001b[0m\u001b[1;33m)\u001b[0m\u001b[1;33m\u001b[0m\u001b[1;33m\u001b[0m\u001b[0m\n\u001b[0;32m     98\u001b[0m                 \u001b[1;32mfor\u001b[0m \u001b[0msub_task\u001b[0m \u001b[1;32min\u001b[0m \u001b[0mrange\u001b[0m\u001b[1;33m(\u001b[0m\u001b[0mtask\u001b[0m \u001b[1;33m+\u001b[0m \u001b[1;36m1\u001b[0m\u001b[1;33m)\u001b[0m\u001b[1;33m:\u001b[0m\u001b[1;33m\u001b[0m\u001b[1;33m\u001b[0m\u001b[0m\n\u001b[1;32m---> 99\u001b[1;33m                     \u001b[0macc_\u001b[0m\u001b[1;33m,\u001b[0m \u001b[0mclass_matrix\u001b[0m \u001b[1;33m=\u001b[0m  \u001b[0mtest\u001b[0m\u001b[1;33m(\u001b[0m\u001b[0mmodel\u001b[0m\u001b[1;33m,\u001b[0m \u001b[0mtest_loader\u001b[0m\u001b[1;33m[\u001b[0m\u001b[0msub_task\u001b[0m\u001b[1;33m]\u001b[0m\u001b[1;33m)\u001b[0m\u001b[1;33m\u001b[0m\u001b[1;33m\u001b[0m\u001b[0m\n\u001b[0m\u001b[0;32m    100\u001b[0m                     \u001b[0macc\u001b[0m\u001b[1;33m[\u001b[0m\u001b[0msub_task\u001b[0m\u001b[1;33m]\u001b[0m\u001b[1;33m.\u001b[0m\u001b[0mappend\u001b[0m\u001b[1;33m(\u001b[0m\u001b[0macc_\u001b[0m\u001b[1;33m)\u001b[0m\u001b[1;33m\u001b[0m\u001b[1;33m\u001b[0m\u001b[0m\n\u001b[0;32m    101\u001b[0m                     \u001b[0mli_class_matrix\u001b[0m\u001b[1;33m[\u001b[0m\u001b[0msub_task\u001b[0m\u001b[1;33m]\u001b[0m\u001b[1;33m.\u001b[0m\u001b[0mappend\u001b[0m\u001b[1;33m(\u001b[0m\u001b[0mclass_matrix\u001b[0m\u001b[1;33m)\u001b[0m\u001b[1;33m\u001b[0m\u001b[1;33m\u001b[0m\u001b[0m\n",
      "\u001b[1;32md:\\Work\\Uni Work\\MSc Project\\ewc.pytorch\\utils.py\u001b[0m in \u001b[0;36mtest\u001b[1;34m(model, data_loader)\u001b[0m\n\u001b[0;32m    133\u001b[0m         \u001b[0mprediction\u001b[0m \u001b[1;33m=\u001b[0m \u001b[0mF\u001b[0m\u001b[1;33m.\u001b[0m\u001b[0msoftmax\u001b[0m\u001b[1;33m(\u001b[0m\u001b[0moutput\u001b[0m\u001b[1;33m,\u001b[0m \u001b[0mdim\u001b[0m\u001b[1;33m=\u001b[0m\u001b[1;36m1\u001b[0m\u001b[1;33m)\u001b[0m\u001b[1;33m.\u001b[0m\u001b[0mmax\u001b[0m\u001b[1;33m(\u001b[0m\u001b[0mdim\u001b[0m\u001b[1;33m=\u001b[0m\u001b[1;36m1\u001b[0m\u001b[1;33m)\u001b[0m\u001b[1;33m[\u001b[0m\u001b[1;36m1\u001b[0m\u001b[1;33m]\u001b[0m\u001b[1;33m\u001b[0m\u001b[1;33m\u001b[0m\u001b[0m\n\u001b[0;32m    134\u001b[0m         \u001b[1;32mfor\u001b[0m \u001b[0midx\u001b[0m\u001b[1;33m,\u001b[0m\u001b[0meach\u001b[0m \u001b[1;32min\u001b[0m \u001b[0menumerate\u001b[0m\u001b[1;33m(\u001b[0m\u001b[0mprediction\u001b[0m\u001b[1;33m)\u001b[0m\u001b[1;33m:\u001b[0m\u001b[1;33m\u001b[0m\u001b[1;33m\u001b[0m\u001b[0m\n\u001b[1;32m--> 135\u001b[1;33m             \u001b[0mclass_matrix\u001b[0m\u001b[1;33m[\u001b[0m\u001b[0meach\u001b[0m\u001b[1;33m.\u001b[0m\u001b[0mitem\u001b[0m\u001b[1;33m(\u001b[0m\u001b[1;33m)\u001b[0m\u001b[1;33m]\u001b[0m\u001b[1;33m[\u001b[0m\u001b[1;34m'total_pred'\u001b[0m\u001b[1;33m]\u001b[0m \u001b[1;33m+=\u001b[0m \u001b[1;36m1\u001b[0m\u001b[1;33m\u001b[0m\u001b[1;33m\u001b[0m\u001b[0m\n\u001b[0m\u001b[0;32m    136\u001b[0m             \u001b[1;32mif\u001b[0m \u001b[0meach\u001b[0m \u001b[1;33m==\u001b[0m \u001b[0mtarget\u001b[0m\u001b[1;33m[\u001b[0m\u001b[0midx\u001b[0m\u001b[1;33m]\u001b[0m\u001b[1;33m:\u001b[0m\u001b[1;33m\u001b[0m\u001b[1;33m\u001b[0m\u001b[0m\n\u001b[0;32m    137\u001b[0m                 \u001b[0mclass_matrix\u001b[0m\u001b[1;33m[\u001b[0m\u001b[0meach\u001b[0m\u001b[1;33m.\u001b[0m\u001b[0mitem\u001b[0m\u001b[1;33m(\u001b[0m\u001b[1;33m)\u001b[0m\u001b[1;33m]\u001b[0m\u001b[1;33m[\u001b[0m\u001b[1;34m'true_positive'\u001b[0m\u001b[1;33m]\u001b[0m \u001b[1;33m+=\u001b[0m \u001b[1;36m1\u001b[0m\u001b[1;33m\u001b[0m\u001b[1;33m\u001b[0m\u001b[0m\n",
      "\u001b[1;31mKeyboardInterrupt\u001b[0m: "
     ]
    }
   ],
   "metadata": {}
  },
  {
   "cell_type": "code",
   "execution_count": null,
   "source": [
    "plt.plot(vae_loss)"
   ],
   "outputs": [],
   "metadata": {}
  },
  {
   "cell_type": "code",
   "execution_count": null,
   "source": [
    "loss_plot(loss_ewc)"
   ],
   "outputs": [],
   "metadata": {}
  },
  {
   "cell_type": "code",
   "execution_count": null,
   "source": [
    "accuracy_plot(acc_ewc)\r\n"
   ],
   "outputs": [],
   "metadata": {}
  },
  {
   "cell_type": "code",
   "execution_count": null,
   "source": [
    "plt.plot(acc[0], label=\"sgd\")\r\n",
    "plt.plot(acc_ewc[0], label=\"ewc\")\r\n",
    "plt.plot(vae_acc[0], label=\"Vae\")\r\n",
    "plt.plot(vae_acc2[0], label=\"Vae2\")\r\n",
    "plt.plot(vae_acc3[0], label=\"Vae3\")\r\n",
    "plt.legend()"
   ],
   "outputs": [],
   "metadata": {}
  },
  {
   "cell_type": "code",
   "execution_count": null,
   "source": [
    "plt.plot(acc[1], label=\"sgd\")\r\n",
    "plt.plot(acc_ewc[1], label=\"ewc\")\r\n",
    "plt.plot(vae_acc[1], label=\"Vae\")\r\n",
    "plt.plot(vae_acc2[1], label=\"Vae2\")\r\n",
    "plt.plot(vae_acc3[1], label=\"Vae3\")\r\n",
    "plt.legend()"
   ],
   "outputs": [],
   "metadata": {}
  },
  {
   "cell_type": "code",
   "execution_count": null,
   "source": [
    "plt.plot(acc[2], label=\"sgd\")\r\n",
    "plt.plot(acc_ewc[2], label=\"ewc\")\r\n",
    "plt.plot(vae_acc[2], label=\"Vae\")\r\n",
    "plt.plot(vae_acc2[2], label=\"Vae2\")\r\n",
    "plt.plot(vae_acc3[2], label=\"Vae3\")\r\n",
    "plt.legend()"
   ],
   "outputs": [],
   "metadata": {}
  }
 ],
 "metadata": {
  "kernelspec": {
   "name": "python3",
   "display_name": "Python 3.8.5 64-bit ('base': conda)"
  },
  "language_info": {
   "codemirror_mode": {
    "name": "ipython",
    "version": 3
   },
   "file_extension": ".py",
   "mimetype": "text/x-python",
   "name": "python",
   "nbconvert_exporter": "python",
   "pygments_lexer": "ipython3",
   "version": "3.8.5"
  },
  "interpreter": {
   "hash": "b3ba2566441a7c06988d0923437866b63cedc61552a5af99d1f4fb67d367b25f"
  }
 },
 "nbformat": 4,
 "nbformat_minor": 2
}